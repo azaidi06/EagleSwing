{
 "cells": [
  {
   "cell_type": "raw",
   "id": "1e00c4da-1ec9-4402-a28b-6ad4b241b3a8",
   "metadata": {
    "vscode": {
     "languageId": "raw"
    }
   },
   "source": [
    "---\n",
    "title: \"Initial Exploratory Data Analysis\"\n",
    "# author: \"AZ\"\n",
    "date: \"2025-07-03\"\n",
    "categories: [EDA]\n",
    "format: \n",
    "  html:\n",
    "    code-fold: true\n",
    "jupyter: python3\n",
    "---"
   ]
  },
  {
   "cell_type": "markdown",
   "id": "8776c2d1-722b-4e14-8b78-4b3f50f45bd4",
   "metadata": {},
   "source": [
    "## Initial Golf Swings\n",
    "\n",
    "Lets look through our first set of swings provided"
   ]
  },
  {
   "cell_type": "code",
   "execution_count": 1,
   "id": "867e8032",
   "metadata": {},
   "outputs": [],
   "source": [
    "#| include: false\n",
    "\n",
    "from fastai.vision.all import *\n",
    "from utils import *"
   ]
  },
  {
   "cell_type": "code",
   "execution_count": 2,
   "id": "7ba10c0c",
   "metadata": {},
   "outputs": [],
   "source": [
    "#| include: false\n",
    "all_file_paths = get_files('../../../data')\n",
    "\n",
    "swing_paths = [fp for fp in all_file_paths if str(fp).split('/')[-1][-3:] == 'mp4']\n",
    "full_vid_paths = [fp for fp in all_file_paths if str(fp).split('/')[-1][-3:] != 'mp4']\n",
    "swing_meta = [str(swing_paths[x]).split('.')[-2].split('/')[-1] for x in range(len(swing_paths))]"
   ]
  },
  {
   "cell_type": "markdown",
   "id": "45ee728e",
   "metadata": {},
   "source": []
  },
  {
   "cell_type": "code",
   "execution_count": 3,
   "id": "41617b30",
   "metadata": {},
   "outputs": [
    {
     "name": "stdout",
     "output_type": "stream",
     "text": [
      "There are a total of 85 swings available from 13 full videos available\n"
     ]
    }
   ],
   "source": [
    "#| echo: false\n",
    "print(f'There are a total of {len(swing_paths)} swings available from {len(full_vid_paths)} full videos available')"
   ]
  },
  {
   "cell_type": "code",
   "execution_count": 4,
   "id": "f31592a1",
   "metadata": {},
   "outputs": [
    {
     "name": "stdout",
     "output_type": "stream",
     "text": [
      "The path to a full video looks like: ../../../data/img_0849/IMG_0849.MOV\n",
      "The path to a full video looks like: ../../../data/img_0849/IMG_0849_swing_14_score_2.mp4\n"
     ]
    }
   ],
   "source": [
    "#| include: false\n",
    "print(f'The path to a full video looks like: {full_vid_paths[0]}')\n",
    "print(f'The path to a full video looks like: {swing_paths[0]}')"
   ]
  },
  {
   "cell_type": "code",
   "execution_count": 5,
   "id": "bd3871bf",
   "metadata": {},
   "outputs": [],
   "source": [
    "#| echo: false\n",
    "# Lets create a dataframe that will house our labels for these videos\n",
    "video_origin = [('_').join(swing_meta[x].split('_')[:2]) for x in range(len(swing_paths))]\n",
    "og_vid_num = [swing_meta[x].split('_')[1] for x in range(len(swing_paths))]\n",
    "swing = [swing_meta[x].split('_')[3] for x in range(len(swing_paths))]\n",
    "score = [swing_meta[x].split('_')[-1] for x in range(len(swing_paths))]\n",
    "swing_dict = {'origin_video': video_origin,\n",
    "              'swing_index': swing,\n",
    "              'score': score,\n",
    "              'og_vid_num': og_vid_num}\n",
    "swing_df = pd.DataFrame(swing_dict)"
   ]
  },
  {
   "cell_type": "code",
   "execution_count": 6,
   "id": "d5b1307b",
   "metadata": {},
   "outputs": [
    {
     "name": "stdout",
     "output_type": "stream",
     "text": [
      "Here's a random selection of swings\n"
     ]
    },
    {
     "data": {
      "text/html": [
       "<div>\n",
       "<style scoped>\n",
       "    .dataframe tbody tr th:only-of-type {\n",
       "        vertical-align: middle;\n",
       "    }\n",
       "\n",
       "    .dataframe tbody tr th {\n",
       "        vertical-align: top;\n",
       "    }\n",
       "\n",
       "    .dataframe thead th {\n",
       "        text-align: right;\n",
       "    }\n",
       "</style>\n",
       "<table border=\"1\" class=\"dataframe\">\n",
       "  <thead>\n",
       "    <tr style=\"text-align: right;\">\n",
       "      <th></th>\n",
       "      <th>origin_video</th>\n",
       "      <th>swing_index</th>\n",
       "      <th>score</th>\n",
       "      <th>og_vid_num</th>\n",
       "    </tr>\n",
       "  </thead>\n",
       "  <tbody>\n",
       "    <tr>\n",
       "      <th>2</th>\n",
       "      <td>IMG_0849</td>\n",
       "      <td>2</td>\n",
       "      <td>5</td>\n",
       "      <td>0849</td>\n",
       "    </tr>\n",
       "    <tr>\n",
       "      <th>17</th>\n",
       "      <td>IMG_0848</td>\n",
       "      <td>1</td>\n",
       "      <td>5</td>\n",
       "      <td>0848</td>\n",
       "    </tr>\n",
       "    <tr>\n",
       "      <th>16</th>\n",
       "      <td>IMG_0848</td>\n",
       "      <td>2</td>\n",
       "      <td>5</td>\n",
       "      <td>0848</td>\n",
       "    </tr>\n",
       "    <tr>\n",
       "      <th>50</th>\n",
       "      <td>IMG_0860</td>\n",
       "      <td>2</td>\n",
       "      <td>5</td>\n",
       "      <td>0860</td>\n",
       "    </tr>\n",
       "    <tr>\n",
       "      <th>48</th>\n",
       "      <td>IMG_0860</td>\n",
       "      <td>0</td>\n",
       "      <td>5</td>\n",
       "      <td>0860</td>\n",
       "    </tr>\n",
       "  </tbody>\n",
       "</table>\n",
       "</div>"
      ],
      "text/plain": [
       "   origin_video swing_index score og_vid_num\n",
       "2      IMG_0849           2     5       0849\n",
       "17     IMG_0848           1     5       0848\n",
       "16     IMG_0848           2     5       0848\n",
       "50     IMG_0860           2     5       0860\n",
       "48     IMG_0860           0     5       0860"
      ]
     },
     "execution_count": 6,
     "metadata": {},
     "output_type": "execute_result"
    }
   ],
   "source": [
    "#| echo: false\n",
    "print(\"Here's a random selection of swings\")\n",
    "swing_df.sample(5)"
   ]
  },
  {
   "cell_type": "markdown",
   "id": "939c0515-9e15-416a-a0b4-032b21d44ee4",
   "metadata": {},
   "source": [
    "## Lets see the distribution of scores between all our swings and make sure things aren't too badly skewed"
   ]
  },
  {
   "cell_type": "code",
   "execution_count": 7,
   "id": "b2e6742a",
   "metadata": {},
   "outputs": [
    {
     "data": {
      "image/png": "[encoded data removed]",
      "text/plain": [
       "<Figure size 600x400 with 1 Axes>"
      ]
     },
     "metadata": {},
     "output_type": "display_data"
    }
   ],
   "source": [
    "#| echo: false\n",
    "plt_hist_score(swing_df.score)"
   ]
  },
  {
   "cell_type": "code",
   "execution_count": 8,
   "id": "3ec7f764",
   "metadata": {},
   "outputs": [
    {
     "name": "stdout",
     "output_type": "stream",
     "text": [
      "The raw values per score are: {'5': 19, '4': 18, '1': 18, '2': 16, '3': 14}\n"
     ]
    }
   ],
   "source": [
    "#| echo: false\n",
    "print(f'The raw values per score are: {dict(swing_df.score.value_counts())}')"
   ]
  },
  {
   "cell_type": "markdown",
   "id": "e63645b9",
   "metadata": {},
   "source": [
    "### Looks like an acceptable distribution of scores to get started -- normally would want to see the 3 score as the most sampled but this is ok\n",
    "\n",
    "## Was there a skew as the swings progressed?"
   ]
  },
  {
   "cell_type": "code",
   "execution_count": 9,
   "id": "bd6e6e01",
   "metadata": {},
   "outputs": [
    {
     "name": "stdout",
     "output_type": "stream",
     "text": [
      "just to check that video 0855 is the midpoint of swings\n",
      "There are 43 swings before video 0855\n",
      "There are 42 swings from video 0855\n"
     ]
    }
   ],
   "source": [
    "#| console: false\n",
    "print(f'just to check that video {swing_df.og_vid_num.value_counts().sort_index().index[6]} is the midpoint of swings')\n",
    "print(f'There are {swing_df.og_vid_num.value_counts().sort_index()[:6].values.sum()} swings before video 0855')\n",
    "print(f'There are {swing_df.og_vid_num.value_counts().sort_index()[6:].values.sum()} swings from video 0855')"
   ]
  },
  {
   "cell_type": "code",
   "execution_count": 13,
   "id": "92f4e222",
   "metadata": {},
   "outputs": [
    {
     "data": {
      "text/plain": [
       "((43, 4), (42, 4))"
      ]
     },
     "execution_count": 13,
     "metadata": {},
     "output_type": "execute_result"
    }
   ],
   "source": [
    "#| include: false\n",
    "first_half_swings = swing_df[swing_df.og_vid_num.map(lambda x: int(x) < 855)]\n",
    "second_half_swings = swing_df[swing_df.og_vid_num.map(lambda x: int(x) >= 855)]\n",
    "first_half_swings.shape, second_half_swings.shape"
   ]
  },
  {
   "cell_type": "code",
   "execution_count": 11,
   "id": "9c42ac05",
   "metadata": {},
   "outputs": [
    {
     "data": {
      "image/png": "[encoded data removed]",
      "text/plain": [
       "<Figure size 600x400 with 1 Axes>"
      ]
     },
     "metadata": {},
     "output_type": "display_data"
    }
   ],
   "source": [
    "#| echo: false\n",
    "plt_hist_score(first_half_swings.score, title='Score distribution for first 1/2 of swings')"
   ]
  },
  {
   "cell_type": "code",
   "execution_count": 12,
   "id": "01324283",
   "metadata": {},
   "outputs": [
    {
     "data": {
      "image/png": "[encoded data removed]",
      "text/plain": [
       "<Figure size 600x400 with 1 Axes>"
      ]
     },
     "metadata": {},
     "output_type": "display_data"
    }
   ],
   "source": [
    "#| echo: false\n",
    "plt_hist_score(second_half_swings.score, title='Score distribution for first 1/2 of swings')"
   ]
  },
  {
   "cell_type": "markdown",
   "id": "dcb91a9b",
   "metadata": {},
   "source": [
    "## Looks like as the session progressed a skew is seen in the distribution of swings -- is this natural/expected?  \n",
    "### -- Maybe from the player getting tired and it's either hit or miss \n",
    "### -- Or maybe internally they changed the way they were scoring things --> worth keeping in mind"
   ]
  },
  {
   "cell_type": "code",
   "execution_count": null,
   "id": "79a87d1b",
   "metadata": {},
   "outputs": [],
   "source": []
  }
 ],
 "metadata": {
  "kernelspec": {
   "display_name": "dl",
   "language": "python",
   "name": "python3"
  },
  "language_info": {
   "codemirror_mode": {
    "name": "ipython",
    "version": 3
   },
   "file_extension": ".py",
   "mimetype": "text/x-python",
   "name": "python",
   "nbconvert_exporter": "python",
   "pygments_lexer": "ipython3",
   "version": "3.10.12"
  }
 },
 "nbformat": 4,
 "nbformat_minor": 5
}
