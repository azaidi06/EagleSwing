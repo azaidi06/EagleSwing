{
 "cells": [
  {
   "cell_type": "raw",
   "id": "95f840ad",
   "metadata": {
    "vscode": {
     "languageId": "raw"
    }
   },
   "source": [
    "---\n",
    "title: \"Initial Swing Video Analysis\"\n",
    "# author: \"AZ\"\n",
    "date: \"2025-07-03\"\n",
    "categories: [EDA]\n",
    "format: \n",
    "  html:\n",
    "    code-fold: true\n",
    "jupyter: python3\n",
    "---"
   ]
  },
  {
   "cell_type": "code",
   "execution_count": null,
   "id": "44c717e7",
   "metadata": {},
   "outputs": [
    {
     "data": {
      "text/html": [
       "<div>\n",
       "<style scoped>\n",
       "    .dataframe tbody tr th:only-of-type {\n",
       "        vertical-align: middle;\n",
       "    }\n",
       "\n",
       "    .dataframe tbody tr th {\n",
       "        vertical-align: top;\n",
       "    }\n",
       "\n",
       "    .dataframe thead th {\n",
       "        text-align: right;\n",
       "    }\n",
       "</style>\n",
       "<table border=\"1\" class=\"dataframe\">\n",
       "  <thead>\n",
       "    <tr style=\"text-align: right;\">\n",
       "      <th></th>\n",
       "      <th>origin_video</th>\n",
       "      <th>swing_index</th>\n",
       "      <th>score</th>\n",
       "      <th>swing_path</th>\n",
       "      <th>og_vid_num</th>\n",
       "    </tr>\n",
       "  </thead>\n",
       "  <tbody>\n",
       "    <tr>\n",
       "      <th>48</th>\n",
       "      <td>IMG_0860</td>\n",
       "      <td>0</td>\n",
       "      <td>5</td>\n",
       "      <td>../../../data/img_0860/IMG_0860_swing_0_score_5.mp4</td>\n",
       "      <td>0860</td>\n",
       "    </tr>\n",
       "    <tr>\n",
       "      <th>49</th>\n",
       "      <td>IMG_0860</td>\n",
       "      <td>1</td>\n",
       "      <td>2</td>\n",
       "      <td>../../../data/img_0860/IMG_0860_swing_1_score_2.mp4</td>\n",
       "      <td>0860</td>\n",
       "    </tr>\n",
       "    <tr>\n",
       "      <th>50</th>\n",
       "      <td>IMG_0860</td>\n",
       "      <td>2</td>\n",
       "      <td>5</td>\n",
       "      <td>../../../data/img_0860/IMG_0860_swing_2_score_5.mp4</td>\n",
       "      <td>0860</td>\n",
       "    </tr>\n",
       "  </tbody>\n",
       "</table>\n",
       "</div>"
      ],
      "text/plain": [
       "   origin_video swing_index score  \\\n",
       "48     IMG_0860           0     5   \n",
       "49     IMG_0860           1     2   \n",
       "50     IMG_0860           2     5   \n",
       "\n",
       "                                             swing_path og_vid_num  \n",
       "48  ../../../data/img_0860/IMG_0860_swing_0_score_5.mp4       0860  \n",
       "49  ../../../data/img_0860/IMG_0860_swing_1_score_2.mp4       0860  \n",
       "50  ../../../data/img_0860/IMG_0860_swing_2_score_5.mp4       0860  "
      ]
     },
     "execution_count": 15,
     "metadata": {},
     "output_type": "execute_result"
    }
   ],
   "source": [
    "#| include: false\n",
    "from utils import *\n",
    "\n",
    "swing_df = get_swing_df()\n",
    "relevant_df = swing_df[swing_df.og_vid_num == '0860']\n",
    "relevant_df"
   ]
  },
  {
   "cell_type": "markdown",
   "id": "70002132",
   "metadata": {
    "vscode": {
     "languageId": "raw"
    }
   },
   "source": [
    "# Analyzing individual clips of swings \n",
    "\n",
    "## We will see how things were cropped and what might have been left out of the mix"
   ]
  },
  {
   "cell_type": "raw",
   "id": "a856332a",
   "metadata": {
    "vscode": {
     "languageId": "raw"
    }
   },
   "source": [
    "![A single swing](swing_screenshot.png){fig-align='left' width=300px}"
   ]
  },
  {
   "cell_type": "markdown",
   "id": "24e6e542",
   "metadata": {},
   "source": [
    "### Only video 0860 will be looked at since its the shortest (1 min 48 seconds) and only features 3 swings"
   ]
  },
  {
   "cell_type": "markdown",
   "id": "69d431bc",
   "metadata": {},
   "source": [
    "{{< video 'IMG_0860_100M.mp4' width='400' height='300' title=\"Full video IMG_0860\">}}"
   ]
  },
  {
   "cell_type": "markdown",
   "id": "228e684f",
   "metadata": {},
   "source": [
    "### Here's a clip of swing #1 that was scored a 5\n",
    "\n",
    "{{< video IMG_0860_swing_0_score_5.mp4 width='400', height='300'>}}\n",
    "\n",
    "--> A near perfect crop, probably don't want or need to add any additional frames"
   ]
  },
  {
   "cell_type": "markdown",
   "id": "a7aa8a44",
   "metadata": {},
   "source": [
    "### Here's a clip of swing #2 that was scored a 2\n",
    "\n",
    "{{< video IMG_0860_swing_1_score_2.mp4 width='400', height='300'>}}\n",
    "\n",
    "--> In this video the backswing doesn't come through all the way, will need to push the ending second mark back by one and then resample down"
   ]
  },
  {
   "cell_type": "markdown",
   "id": "3dbe2051",
   "metadata": {},
   "source": [
    "## Here's a clip of swing #3 that was scored a 5\n",
    "{{< video IMG_0860_swing_2_score_5.mp4 width='400', height='300'>}}\n",
    "--> In this video it looks like we get the entire swing and nothing looks missing"
   ]
  },
  {
   "cell_type": "code",
   "execution_count": null,
   "id": "9790979c",
   "metadata": {},
   "outputs": [],
   "source": [
    "#| include: false\n",
    "! cp '../../../data/img_0860/IMG_0860_swing_0_score_5.mp4' .\n",
    "! cp '../../../data/img_0860/IMG_0860_swing_1_score_2.mp4' .\n",
    "! cp '../../../data/img_0860/IMG_0860_swing_2_score_5.mp4' ."
   ]
  },
  {
   "cell_type": "markdown",
   "id": "cf118634",
   "metadata": {},
   "source": [
    "<br>\n",
    "\n",
    "Extracted these clips programmatically with [ffmpeg](https://ffmpeg.org/about.html)\n",
    "\n",
    "If we need to re-sample the individual swings because some information is missing: <br>\n",
    "Could recrop a whole second before and after these values and then resample the video in python by only selecting the last 1/2 of the frames of the initial second and the first half of the frames for the last second --> the ffmpeg command line scripts are below\n",
    "\n",
    "ffmpeg -ss 00:00:34 -to 00:00:37 -i IMG_0860.mov -c copy IMG_0860_swing_0_score_5.mp4\n",
    "ffmpeg -ss 00:00:59 -to 00:01:02 -i IMG_0860.mov -c copy IMG_0860_swing_1_score_2.mp4\n",
    "ffmpeg -ss 00:01:26 -to 00:01:29 -i IMG_0860.mov -c copy IMG_0860_swing_2_score_5.mp4"
   ]
  },
  {
   "cell_type": "markdown",
   "id": "2b9e557d",
   "metadata": {},
   "source": []
  }
 ],
 "metadata": {
  "kernelspec": {
   "display_name": "dl",
   "language": "python",
   "name": "python3"
  },
  "language_info": {
   "codemirror_mode": {
    "name": "ipython",
    "version": 3
   },
   "file_extension": ".py",
   "mimetype": "text/x-python",
   "name": "python",
   "nbconvert_exporter": "python",
   "pygments_lexer": "ipython3",
   "version": "3.10.12"
  }
 },
 "nbformat": 4,
 "nbformat_minor": 5
}
